{
 "cells": [
  {
   "cell_type": "code",
   "execution_count": 1,
   "metadata": {},
   "outputs": [],
   "source": [
    "%load_ext Cython"
   ]
  },
  {
   "cell_type": "code",
   "execution_count": 116,
   "metadata": {},
   "outputs": [],
   "source": [
    "import numpy as np\n",
    "import pandas as pd\n",
    "y = np.random.randint(2, size=(5000, 1))\n",
    "x = np.random.randint(10, size=(5000, 1))\n",
    "data = pd.DataFrame(np.concatenate([y, x], axis=1), columns=['y', 'x'])"
   ]
  },
  {
   "cell_type": "markdown",
   "metadata": {},
   "source": [
    "## 超级慢的内个v1版本"
   ]
  },
  {
   "cell_type": "code",
   "execution_count": 3,
   "metadata": {},
   "outputs": [
    {
     "name": "stdout",
     "output_type": "stream",
     "text": [
      "17.2 s ± 57.6 ms per loop (mean ± std. dev. of 7 runs, 1 loop each)\n"
     ]
    }
   ],
   "source": [
    "def target_mean_v1(data, y_name, x_name):\n",
    "    result = np.zeros(data.shape[0])\n",
    "    for i in range(data.shape[0]):\n",
    "        groupby_result = data[data.index != i].groupby([x_name], as_index=False).agg(['mean', 'count'])\n",
    "        result[i] = groupby_result.loc[groupby_result.index == data.loc[i, x_name], (y_name, 'mean')]\n",
    "    return result\n",
    "\n",
    "%timeit result_1 = target_mean_v1(data, 'y', 'x')"
   ]
  },
  {
   "cell_type": "markdown",
   "metadata": {},
   "source": [
    "## 大牛上课敲的那个\n"
   ]
  },
  {
   "cell_type": "code",
   "execution_count": 96,
   "metadata": {},
   "outputs": [
    {
     "name": "stdout",
     "output_type": "stream",
     "text": [
      "303 ms ± 17.7 ms per loop (mean ± std. dev. of 7 runs, 1 loop each)\n"
     ]
    }
   ],
   "source": [
    "def target_mean_v2(data, y_name, x_name):\n",
    "    result = np.zeros(data.shape[0])\n",
    "    value_dict = dict()\n",
    "    count_dict = dict()\n",
    "    for i in range(data.shape[0]):\n",
    "        if data.loc[i, x_name] not in value_dict.keys():\n",
    "            value_dict[data.loc[i, x_name]] = data.loc[i, y_name]\n",
    "            count_dict[data.loc[i, x_name]] = 1\n",
    "        else:\n",
    "            value_dict[data.loc[i, x_name]] += data.loc[i, y_name]\n",
    "            count_dict[data.loc[i, x_name]] += 1\n",
    "    for i in range(data.shape[0]):\n",
    "        result[i] = (value_dict[data.loc[i, x_name]] - data.loc[i, y_name]) / (count_dict[data.loc[i, x_name]] - 1)\n",
    "    return result\n",
    "\n",
    "%timeit result_2 = target_mean_v2(data, 'y', 'x')"
   ]
  },
  {
   "cell_type": "markdown",
   "metadata": {},
   "source": [
    "## 砍掉if-else"
   ]
  },
  {
   "cell_type": "code",
   "execution_count": 6,
   "metadata": {},
   "outputs": [
    {
     "name": "stdout",
     "output_type": "stream",
     "text": [
      "257 ms ± 12.8 ms per loop (mean ± std. dev. of 7 runs, 1 loop each)\n"
     ]
    }
   ],
   "source": [
    "def target_mean_v3(data, y_name, x_name):\n",
    "    n = data.shape[0]\n",
    "    result = np.zeros(n)\n",
    "    value = np.zeros(10)\n",
    "    count = np.zeros(10)\n",
    "    for i in range(n):\n",
    "        value[data.loc[i, x_name]] += data.loc[i, y_name]\n",
    "        count[data.loc[i, x_name]] += 1\n",
    "    for i in range(n):\n",
    "        result[i] = (value[data.loc[i, x_name]] - data.loc[i, y_name]) / (count[data.loc[i, x_name]] - 1)\n",
    "    return result\n",
    "\n",
    "%timeit result_3 = target_mean_v3(data, 'y', 'x')"
   ]
  },
  {
   "cell_type": "code",
   "execution_count": 19,
   "metadata": {},
   "outputs": [],
   "source": [
    "%%cython\n",
    "\n",
    "cimport numpy as cnp\n",
    "import numpy as np\n",
    "\n",
    "def target_mean_v4(data, y_name, x_name):\n",
    "    cdef int n = data.shape[0]\n",
    "    cdef cnp.ndarray result = np.zeros(n)\n",
    "    value_dict = dict()\n",
    "    count_dict = dict()\n",
    "    for i in range(n):\n",
    "        if data.loc[i, x_name] not in value_dict.keys():\n",
    "            value_dict[data.loc[i, x_name]] = data.loc[i, y_name]\n",
    "            count_dict[data.loc[i, x_name]] = 1\n",
    "        else:\n",
    "            value_dict[data.loc[i, x_name]] += data.loc[i, y_name]\n",
    "            count_dict[data.loc[i, x_name]] += 1\n",
    "    for i in range(n):\n",
    "        result[i] = (value_dict[data.loc[i, x_name]] - data.loc[i, y_name]) / (count_dict[data.loc[i, x_name]] - 1)\n",
    "    return result"
   ]
  },
  {
   "cell_type": "code",
   "execution_count": 12,
   "metadata": {},
   "outputs": [
    {
     "name": "stdout",
     "output_type": "stream",
     "text": [
      "304 ms ± 22.2 ms per loop (mean ± std. dev. of 7 runs, 1 loop each)\n"
     ]
    }
   ],
   "source": [
    "%%timeit \n",
    "result_4 = target_mean_v4(data, 'y', 'x')"
   ]
  },
  {
   "cell_type": "markdown",
   "metadata": {},
   "source": [
    "## 然并卵的一堆"
   ]
  },
  {
   "cell_type": "code",
   "execution_count": 74,
   "metadata": {
    "scrolled": true
   },
   "outputs": [],
   "source": [
    "%%cython\n",
    "\n",
    "import numpy as np\n",
    "cimport numpy as cnp\n",
    "\n",
    "def target_mean_v5(data, y_name, x_name):\n",
    "    cdef int n = data.shape[0]\n",
    "    cdef cnp.ndarray result = np.zeros(n)\n",
    "    cdef cnp.ndarray value = np.zeros(10)\n",
    "    cdef cnp.ndarray count = np.zeros(10)\n",
    "    \n",
    "    for i in range(n):\n",
    "        value[data.loc[i, x_name]] += data.loc[i, y_name]\n",
    "        count[data.loc[i, x_name]] += 1\n",
    "    for i in range(n):\n",
    "        result[i] = (value[data.loc[i, x_name]] - data.loc[i, y_name]) / (count[data.loc[i, x_name]] - 1)\n",
    "    return result"
   ]
  },
  {
   "cell_type": "code",
   "execution_count": 75,
   "metadata": {
    "scrolled": true
   },
   "outputs": [
    {
     "name": "stdout",
     "output_type": "stream",
     "text": [
      "266 ms ± 7.41 ms per loop (mean ± std. dev. of 7 runs, 1 loop each)\n"
     ]
    }
   ],
   "source": [
    "%%timeit \n",
    "result_5 = target_mean_v5(data, 'y', 'x')"
   ]
  },
  {
   "cell_type": "markdown",
   "metadata": {},
   "source": [
    "## 花里胡哨但然并卵的一堆"
   ]
  },
  {
   "cell_type": "code",
   "execution_count": 93,
   "metadata": {},
   "outputs": [],
   "source": [
    "%%cython\n",
    "\n",
    "import numpy as np\n",
    "cimport numpy as cnp\n",
    "# from libcpp.vector cimport vector\n",
    "\n",
    "# cdef extern from \"ind_cols.h\":\n",
    "#     vector[long] get_ind_cols(double*, const long, const long)\n",
    "\n",
    "cpdef target_mean_v6(data, y_name, x_name):\n",
    "    \n",
    "    cdef int n = data.shape[0]\n",
    "    cdef cnp.ndarray result = np.zeros(n)\n",
    "#     cdef cnp.ndarray[double, ndim=2, mode='fortran'] aa = np.asfortranarray(data, dtype=np.float64)\n",
    "#     cdef int nn = np.unique(aa).shape[0]\n",
    "#     cdef cnp.ndarray value = np.zeros(nn)\n",
    "#     cdef cnp.ndarray count = np.zeros(nn)\n",
    "#     cdef cnp.ndarray[double, ndim=1, mode='fortran'] value = np.asfortranarray(np.zeros(nn), dtype=np.float64)\n",
    "#     cdef cnp.ndarray[double, ndim=1, mode='fortran'] count = np.asfortranarray(np.zeros(nn), dtype=np.float64)\n",
    "#     ind_col_vec = list(get_ind_cols(&arg[0, 0], matrix.shape[0], matrix.shape[1]))\n",
    "\n",
    "    groupby_result = data.groupby([x_name], as_index=False).agg(['sum', 'count'])\n",
    "\n",
    "#     for i in range(n):\n",
    "#         value[data.loc[i, x_name]] += data.loc[i, y_name]\n",
    "#         count[data.loc[i, x_name]] += 1\n",
    "    for i in range(n):\n",
    "        result[i] = (groupby_result.loc[data.loc[i, y_name], (y_name, 'sum')] - data.loc[i, y_name]) / (groupby_result.loc[data.loc[i, y_name], (y_name, 'count')] - 1)\n",
    "    return result"
   ]
  },
  {
   "cell_type": "code",
   "execution_count": 94,
   "metadata": {},
   "outputs": [
    {
     "name": "stdout",
     "output_type": "stream",
     "text": [
      "2.4 s ± 18.9 ms per loop (mean ± std. dev. of 7 runs, 1 loop each)\n"
     ]
    }
   ],
   "source": [
    "%%timeit \n",
    "result_6 = target_mean_v6(data, 'y', 'x')"
   ]
  },
  {
   "cell_type": "markdown",
   "metadata": {},
   "source": [
    "## 用数组直接累加"
   ]
  },
  {
   "cell_type": "code",
   "execution_count": 108,
   "metadata": {},
   "outputs": [],
   "source": [
    "%%cython\n",
    "\n",
    "import numpy as np\n",
    "cimport numpy as cnp\n",
    "\n",
    "def target_mean_v7(data, y_name, x_name):\n",
    "    cdef int n = data.shape[0]\n",
    "    cdef cnp.ndarray result = np.zeros(n)\n",
    "    \n",
    "    cdef cnp.ndarray xx = data[x_name].values\n",
    "    cdef cnp.ndarray yy = data[y_name].values\n",
    "    \n",
    "    cdef int nn = np.unique(xx).shape[0]\n",
    "    cdef cnp.ndarray value = np.zeros(nn)\n",
    "    cdef cnp.ndarray count = np.zeros(nn)\n",
    "    \n",
    "    for i in range(n):\n",
    "        ii = xx[i]\n",
    "        value[ii] += yy[i]\n",
    "        count[ii] += 1\n",
    "        \n",
    "    for i in range(n):\n",
    "        ii = xx[i]\n",
    "        result[i] = (value[ii] - yy[i]) / (count[ii] - 1)\n",
    "    \n",
    "    return result"
   ]
  },
  {
   "cell_type": "code",
   "execution_count": 109,
   "metadata": {},
   "outputs": [
    {
     "name": "stdout",
     "output_type": "stream",
     "text": [
      "11.2 ms ± 337 µs per loop (mean ± std. dev. of 7 runs, 100 loops each)\n"
     ]
    }
   ],
   "source": [
    "%%timeit\n",
    "result_7 = target_mean_v7(data, 'y', 'x')"
   ]
  },
  {
   "cell_type": "markdown",
   "metadata": {},
   "source": [
    "## 用字典累加"
   ]
  },
  {
   "cell_type": "code",
   "execution_count": 118,
   "metadata": {},
   "outputs": [],
   "source": [
    "%%cython\n",
    "\n",
    "import numpy as np\n",
    "cimport numpy as cnp\n",
    "\n",
    "def target_mean_v8(data, y_name, x_name):\n",
    "    cdef int n = data.shape[0]\n",
    "    cdef cnp.ndarray result = np.zeros(n)\n",
    "    \n",
    "    cdef cnp.ndarray xx = data[x_name].values\n",
    "    cdef cnp.ndarray yy = data[y_name].values\n",
    "    \n",
    "    cdef int nn = np.unique(xx).shape[0]\n",
    "    \n",
    "    value_dict = dict()\n",
    "    count_dict = dict()\n",
    "    \n",
    "    for i in range(data.shape[0]):\n",
    "        index = xx[i]\n",
    "        if index not in value_dict.keys():\n",
    "            value_dict[index] = yy[i]\n",
    "            count_dict[index] = 0\n",
    "        else:\n",
    "            value_dict[index] += yy[i]\n",
    "            count_dict[index] += 1\n",
    "            \n",
    "    for i in range(n):\n",
    "        index = xx[i]\n",
    "        result[i] = (value_dict[index] - yy[i]) / (count_dict[index] - 1)\n",
    "    \n",
    "    return result"
   ]
  },
  {
   "cell_type": "code",
   "execution_count": 119,
   "metadata": {},
   "outputs": [
    {
     "name": "stdout",
     "output_type": "stream",
     "text": [
      "8.28 ms ± 227 µs per loop (mean ± std. dev. of 7 runs, 100 loops each)\n"
     ]
    }
   ],
   "source": [
    "%%timeit\n",
    "result_8 = target_mean_v8(data, 'y', 'x')"
   ]
  },
  {
   "cell_type": "markdown",
   "metadata": {},
   "source": [
    "## 胖大海的python代码"
   ]
  },
  {
   "cell_type": "code",
   "execution_count": 120,
   "metadata": {},
   "outputs": [],
   "source": [
    "def target_mean_v9(data, y_name, x_name):\n",
    "    result = np.zeros(data.shape[0])\n",
    "    xs = data[x_name].values\n",
    "    ys = data[y_name].values\n",
    "    value_dict = dict()\n",
    "    count_dict = dict()\n",
    "    for i in range(data.shape[0]):\n",
    "        index = xs[i]\n",
    "        if index not in value_dict.keys():\n",
    "            value_dict[index] = ys[i]\n",
    "            count_dict[index] = 0\n",
    "        else:\n",
    "            value_dict[index] += ys[i]\n",
    "            count_dict[index] += 1\n",
    "\n",
    "    for i in range(data.shape[0]):\n",
    "        index = xs[i]\n",
    "        result[i] = (value_dict[index] - ys[i]) / count_dict[index]\n",
    "    return result"
   ]
  },
  {
   "cell_type": "code",
   "execution_count": 122,
   "metadata": {},
   "outputs": [
    {
     "name": "stdout",
     "output_type": "stream",
     "text": [
      "10.2 ms ± 222 µs per loop (mean ± std. dev. of 7 runs, 100 loops each)\n"
     ]
    }
   ],
   "source": [
    "%%timeit\n",
    "result_v9 = target_mean_v9(data,'y','x')"
   ]
  },
  {
   "cell_type": "code",
   "execution_count": 102,
   "metadata": {},
   "outputs": [
    {
     "ename": "TypeError",
     "evalue": "Cannot convert Series to numpy.ndarray",
     "output_type": "error",
     "traceback": [
      "\u001b[1;31m---------------------------------------------------------------------------\u001b[0m",
      "\u001b[1;31mTypeError\u001b[0m                                 Traceback (most recent call last)",
      "\u001b[1;32m<ipython-input-102-b6f06f637d75>\u001b[0m in \u001b[0;36m<module>\u001b[1;34m\u001b[0m\n\u001b[0;32m      3\u001b[0m \u001b[1;31m# result_5 = target_mean_v5(data, 'y', 'x')\u001b[0m\u001b[1;33m\u001b[0m\u001b[1;33m\u001b[0m\u001b[1;33m\u001b[0m\u001b[0m\n\u001b[0;32m      4\u001b[0m \u001b[1;31m# result_6 = target_mean_v6(data, 'y', 'x')\u001b[0m\u001b[1;33m\u001b[0m\u001b[1;33m\u001b[0m\u001b[1;33m\u001b[0m\u001b[0m\n\u001b[1;32m----> 5\u001b[1;33m \u001b[0mresult_7\u001b[0m \u001b[1;33m=\u001b[0m \u001b[0mtarget_mean_v7\u001b[0m\u001b[1;33m(\u001b[0m\u001b[0mdata\u001b[0m\u001b[1;33m,\u001b[0m \u001b[1;34m'y'\u001b[0m\u001b[1;33m,\u001b[0m \u001b[1;34m'x'\u001b[0m\u001b[1;33m)\u001b[0m\u001b[1;33m\u001b[0m\u001b[1;33m\u001b[0m\u001b[0m\n\u001b[0m\u001b[0;32m      6\u001b[0m \u001b[0mdiff\u001b[0m \u001b[1;33m=\u001b[0m \u001b[0mnp\u001b[0m\u001b[1;33m.\u001b[0m\u001b[0mlinalg\u001b[0m\u001b[1;33m.\u001b[0m\u001b[0mnorm\u001b[0m\u001b[1;33m(\u001b[0m\u001b[0mresult_3\u001b[0m \u001b[1;33m-\u001b[0m \u001b[0mresult_7\u001b[0m\u001b[1;33m)\u001b[0m\u001b[1;33m\u001b[0m\u001b[1;33m\u001b[0m\u001b[0m\n\u001b[0;32m      7\u001b[0m \u001b[0mdiff\u001b[0m\u001b[1;33m\u001b[0m\u001b[1;33m\u001b[0m\u001b[0m\n",
      "\u001b[1;32m_cython_magic_505e048f36a112f34d8f45d57e3e45ab.pyx\u001b[0m in \u001b[0;36m_cython_magic_505e048f36a112f34d8f45d57e3e45ab.target_mean_v7\u001b[1;34m()\u001b[0m\n",
      "\u001b[1;31mTypeError\u001b[0m: Cannot convert Series to numpy.ndarray"
     ]
    }
   ],
   "source": [
    "# result_3 = target_mean_v3(data, 'y', 'x')\n",
    "# result_4 = target_mean_v4(data, 'y', 'x')\n",
    "# result_5 = target_mean_v5(data, 'y', 'x')\n",
    "# result_6 = target_mean_v6(data, 'y', 'x')\n",
    "result_7 = target_mean_v7(data, 'y', 'x')\n",
    "diff = np.linalg.norm(result_3 - result_7)\n",
    "diff"
   ]
  }
 ],
 "metadata": {
  "kernelspec": {
   "display_name": "Python 3",
   "language": "python",
   "name": "python3"
  },
  "language_info": {
   "codemirror_mode": {
    "name": "ipython",
    "version": 3
   },
   "file_extension": ".py",
   "mimetype": "text/x-python",
   "name": "python",
   "nbconvert_exporter": "python",
   "pygments_lexer": "ipython3",
   "version": "3.7.9"
  }
 },
 "nbformat": 4,
 "nbformat_minor": 4
}
